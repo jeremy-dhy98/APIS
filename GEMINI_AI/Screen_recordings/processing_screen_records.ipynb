{
 "cells": [
  {
   "cell_type": "code",
   "execution_count": 1,
   "id": "74d6bc54-6221-4343-a01d-c4712d1079c5",
   "metadata": {},
   "outputs": [
    {
     "name": "stdout",
     "output_type": "stream",
     "text": [
      "About to start a screen recording...for: 30 seconds.\n",
      "Timing for 15 seconds...\n",
      "Screen recording started...\n",
      "Expected duration: 30s, Actual duration: 30.06s\n",
      "Total frames captured: 265, Expected frames at 24fps: 720\n",
      "Screen recording finished.\n"
     ]
    }
   ],
   "source": [
    "import mss\n",
    "import pyautogui\n",
    "import subprocess\n",
    "import numpy as np\n",
    "import cv2\n",
    "import IPython.display as ipd\n",
    "import time\n",
    "\n",
    "screen_size = (1920, 1080)\n",
    "frame_width = 1280  \n",
    "frame_height = 720  \n",
    "fps = 24\n",
    "fourcc = cv2.VideoWriter_fourcc(*\"mp4v\")\n",
    "out = cv2.VideoWriter(\"screen2_recording.mp4\", fourcc, fps, (frame_width, frame_height), screen_size)\n",
    "\n",
    "sct = mss.mss()\n",
    "duration = 30  # seconds\n",
    "print(f\"About to start a screen recording...for: {duration} seconds.\")\n",
    "print(f\"Timing for 15 seconds...\")\n",
    "time.sleep(15)\n",
    "print(\"Screen recording started...\")\n",
    "\n",
    "start_time = time.time()\n",
    "frame_interval = 1 / fps  # Time interval per frame in seconds\n",
    "frame_count = 0  # Track the number of frames captured\n",
    "\n",
    "while time.time() - start_time < duration:\n",
    "    current_time = time.time()\n",
    "    \n",
    "    # Capture screen\n",
    "    screenshot = sct.grab(sct.monitors[1])  # Select primary monitor\n",
    "    frame = np.array(screenshot)\n",
    "    frame = cv2.cvtColor(frame, cv2.COLOR_BGRA2BGR)  # Remove alpha channel\n",
    "    frame = cv2.resize(frame, (frame_width, frame_height))  # Resize frame to desired size\n",
    "    out.write(frame)\n",
    "    frame_count += 1\n",
    "    \n",
    "    # Calculate the time at which the next frame should be captured\n",
    "    next_capture_time = start_time + frame_count * frame_interval\n",
    "    delay = next_capture_time - time.time()\n",
    "    \n",
    "    # Sleep only if we are ahead of schedule, otherwise skip sleep\n",
    "    if delay > 0:\n",
    "        time.sleep(delay)\n",
    "\n",
    "print(f\"Expected duration: {duration}s, Actual duration: {time.time() - start_time:.2f}s\")\n",
    "print(f\"Total frames captured: {frame_count}, Expected frames at {fps}fps: {int(duration * fps)}\")\n",
    "out.release()\n",
    "print(\"Screen recording finished.\")\n",
    "\n"
   ]
  },
  {
   "cell_type": "code",
   "execution_count": 2,
   "id": "4aaa2a1e-1d0c-4217-840c-a6b2bd3621cb",
   "metadata": {},
   "outputs": [
    {
     "data": {
      "text/plain": [
       "CompletedProcess(args=['ffmpeg', '-i', 'screen2_recording.mp4', '-qscale', '0', 'screen2_recording-avi_encoded.mp4', '-loglevel', 'quiet'], returncode=0)"
      ]
     },
     "execution_count": 2,
     "metadata": {},
     "output_type": "execute_result"
    }
   ],
   "source": [
    "# Key video formats conversion\n",
    "subprocess.run([\"ffmpeg\", \"-i\", \"screen2_recording.mp4\", \"-qscale\", \"0\", \\\n",
    "                r\"screen2_recording-avi_encoded.mp4\", \"-loglevel\", \"quiet\"])\n"
   ]
  },
  {
   "cell_type": "code",
   "execution_count": null,
   "id": "47dc6caa-cd0f-4461-b0d0-0b5d987e560c",
   "metadata": {},
   "outputs": [],
   "source": []
  }
 ],
 "metadata": {
  "kernelspec": {
   "display_name": "APIS",
   "language": "python",
   "name": "apis"
  },
  "language_info": {
   "codemirror_mode": {
    "name": "ipython",
    "version": 3
   },
   "file_extension": ".py",
   "mimetype": "text/x-python",
   "name": "python",
   "nbconvert_exporter": "python",
   "pygments_lexer": "ipython3",
   "version": "3.12.7"
  }
 },
 "nbformat": 4,
 "nbformat_minor": 5
}
