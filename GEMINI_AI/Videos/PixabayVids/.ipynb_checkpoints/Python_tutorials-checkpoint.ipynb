{
 "cells": [
  {
   "cell_type": "code",
   "execution_count": 8,
   "id": "a97ec2cc-ba29-4509-9a03-843d8aa9d566",
   "metadata": {},
   "outputs": [],
   "source": [
    "# configure image-magick\n",
    "from moviepy.config import change_settings\n",
    "change_settings({\"IMAGEMAGICK_BINARY\": r\"C:\\Program Files\\ImageMagick-7.1.1-Q16-HDRI\\magick.exe\"})\n",
    "\n",
    "\n",
    "import moviepy.editor as mpy\n",
    "from PIL import Image\n",
    "import IPython.display as ipd\n",
    "from glob import glob\n",
    "import os\n",
    "import subprocess\n",
    "from pathlib import Path"
   ]
  },
  {
   "cell_type": "code",
   "execution_count": 22,
   "id": "d81c002b-133d-46c9-bae5-c1874ca9b8ea",
   "metadata": {},
   "outputs": [
    {
     "name": "stdout",
     "output_type": "stream",
     "text": [
      "Background created successfully.\n"
     ]
    }
   ],
   "source": [
    "# Audio file path\n",
    "audio_path = Path(r\"why_python.mp3\")\n",
    "\n",
    "# Check if audio file exists\n",
    "if not audio_path.exists():\n",
    "    raise FileNotFoundError(f\"Audio file not found: {audio_path}\")\n",
    "\n",
    "# Load audio file\n",
    "audio = mpy.AudioFileClip(str(audio_path))\n",
    "audio_duration = audio.duration  # Get audio duration in seconds\n",
    "video_duration = audio_duration  # Set video duration to match audio duration\n",
    "\n",
    "# Video specifications\n",
    "video_width, video_height, fps = 1280, 720, 24\n",
    "\n",
    "# PREPARE BACKGROUND\n",
    "# Image paths\n",
    "image_paths = [\n",
    "    r\"WhyPythonPics/Python programming language.png\",\n",
    "    r\"WhyPythonPics/data analysis.png\",\n",
    "    r\"WhyPythonPics/data analysis (1).png\",\n",
    "    r\"WhyPythonPics/African people in web development.png\",\n",
    "    r\"WhyPythonPics/African people in mobile app development.png\"\n",
    "]\n",
    "\n",
    "# Check if all images exist\n",
    "for path in image_paths:\n",
    "    if not os.path.exists(path):\n",
    "        raise FileNotFoundError(f\"Image file not found: {path}\")\n",
    "\n",
    "# Calculate duration per image\n",
    "num_images = len(image_paths)\n",
    "duration_per_image = video_duration / num_images\n",
    "\n",
    "# Create slideshow clips\n",
    "slideshow_clips = [\n",
    "    mpy.ImageClip(path)\n",
    "    .resize(height=video_height)  # Resize while maintaining aspect ratio\n",
    "    .set_duration(duration_per_image)  # Set duration for each image\n",
    "    for path in image_paths\n",
    "]\n",
    "\n",
    "# Concatenate clips to form the slideshow\n",
    "background = mpy.concatenate_videoclips(slideshow_clips, method=\"compose\").set_fps(fps)\n",
    "\n",
    "\n",
    "\n",
    "\n",
    "# PREPARE TEXT CLIPS\n",
    "# # Define start times and durations for each line in seconds\n",
    "# start_times = [0, 28, 35, 43, 50, 53, 57, 60, 63, 71, 79, 86, 87, 94, 101, 107, 115, 120, 127, 140] \n",
    "# durations = [28, 7, 8, 7, 3, 4, 3, 3, 8, 8, 7, 1, 7, 7, 6, 8, 5, 7, 13]       \n",
    "\n",
    "# # Load transcriptions from a text file\n",
    "# with open(\"GEMINI_AI/Videos/PixabayVids/why_python.txt\", \"r\") as file:\n",
    "#     lines = [line.strip() for line in file.readlines()]\n",
    "#     # print(lines)\n",
    "\n",
    "# # Create and position each text segment\n",
    "# clips = []\n",
    "# for line, start, duration in zip(lines, start_times, durations):\n",
    "#     text_clip = (\n",
    "#         mpy.TextClip(line, fontsize=50, color='black', bg_color=\"white\")\n",
    "#         .set_position(\"center\")\n",
    "#         .set_start(start)\n",
    "#         .set_duration(duration)\n",
    "#     )\n",
    "#     clips.append(text_clip)\n",
    "    # print(\"Text clips ready...\")\n",
    "    # print(clips)\n"
   ]
  }
 ],
 "metadata": {
  "kernelspec": {
   "display_name": "APIS",
   "language": "python",
   "name": "apis"
  },
  "language_info": {
   "codemirror_mode": {
    "name": "ipython",
    "version": 3
   },
   "file_extension": ".py",
   "mimetype": "text/x-python",
   "name": "python",
   "nbconvert_exporter": "python",
   "pygments_lexer": "ipython3",
   "version": "3.12.7"
  }
 },
 "nbformat": 4,
 "nbformat_minor": 5
}
